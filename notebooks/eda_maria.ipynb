{
 "cells": [
  {
   "cell_type": "code",
   "execution_count": 1,
   "metadata": {},
   "outputs": [],
   "source": [
    "import pandas as pd\n",
    "from zipfile import ZipFile"
   ]
  },
  {
   "cell_type": "code",
   "execution_count": 2,
   "metadata": {},
   "outputs": [],
   "source": [
    "ZIP_PATH = '../data/dataset.zip'\n",
    "\n",
    "with ZipFile(ZIP_PATH, 'r') as z:\n",
    "    with z.open(z.namelist()[0]) as f:\n",
    "        df = pd.read_csv(f, parse_dates = ['date'])"
   ]
  },
  {
   "cell_type": "code",
   "execution_count": 3,
   "metadata": {},
   "outputs": [
    {
     "data": {
      "text/plain": [
       "date                1979-01-01 00:00:00\n",
       "cloud_cover                         0.0\n",
       "sunshine                            0.0\n",
       "global_radiation                    8.0\n",
       "max_temp                           -6.2\n",
       "mean_temp                          -7.6\n",
       "min_temp                          -11.8\n",
       "precipitation                       0.0\n",
       "pressure                        95960.0\n",
       "snow_depth                          0.0\n",
       "dtype: object"
      ]
     },
     "execution_count": 3,
     "metadata": {},
     "output_type": "execute_result"
    }
   ],
   "source": [
    "df.min()"
   ]
  },
  {
   "cell_type": "code",
   "execution_count": 4,
   "metadata": {},
   "outputs": [
    {
     "data": {
      "text/plain": [
       "date                2020-12-31 00:00:00\n",
       "cloud_cover                         9.0\n",
       "sunshine                           16.0\n",
       "global_radiation                  402.0\n",
       "max_temp                           37.9\n",
       "mean_temp                          29.0\n",
       "min_temp                           22.3\n",
       "precipitation                      61.8\n",
       "pressure                       104820.0\n",
       "snow_depth                         22.0\n",
       "dtype: object"
      ]
     },
     "execution_count": 4,
     "metadata": {},
     "output_type": "execute_result"
    }
   ],
   "source": [
    "df.max()"
   ]
  },
  {
   "cell_type": "code",
   "execution_count": 5,
   "metadata": {},
   "outputs": [
    {
     "data": {
      "text/plain": [
       "np.float64(11.475511270826528)"
      ]
     },
     "execution_count": 5,
     "metadata": {},
     "output_type": "execute_result"
    }
   ],
   "source": [
    "df.mean_temp.mean()"
   ]
  }
 ],
 "metadata": {
  "kernelspec": {
   "display_name": "Python 3",
   "language": "python",
   "name": "python3"
  },
  "language_info": {
   "codemirror_mode": {
    "name": "ipython",
    "version": 3
   },
   "file_extension": ".py",
   "mimetype": "text/x-python",
   "name": "python",
   "nbconvert_exporter": "python",
   "pygments_lexer": "ipython3",
   "version": "3.12.7"
  }
 },
 "nbformat": 4,
 "nbformat_minor": 2
}
